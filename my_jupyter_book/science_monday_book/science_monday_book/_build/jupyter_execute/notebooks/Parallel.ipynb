{
 "cells": [
  {
   "cell_type": "markdown",
   "metadata": {},
   "source": [
    "## Testing different libraries for parallel processing in Python"
   ]
  },
  {
   "cell_type": "code",
   "execution_count": 1,
   "metadata": {
    "ExecuteTime": {
     "end_time": "2021-01-09T18:55:52.377163Z",
     "start_time": "2021-01-09T18:55:52.321561Z"
    }
   },
   "outputs": [],
   "source": [
    "import numpy as np\n",
    "\n",
    "# Different ways to speed up your computations using multiple cpu cores\n",
    "def slow_function(n=1000):\n",
    "    total = 0.0\n",
    "    for i, _ in enumerate(range(n)):\n",
    "        for j, _ in enumerate(range(1, n)):\n",
    "            total += (i * j)\n",
    "    return total\n",
    "\n",
    "data = range(100)"
   ]
  },
  {
   "cell_type": "markdown",
   "metadata": {},
   "source": [
    "### Option 0: sequential loop"
   ]
  },
  {
   "cell_type": "code",
   "execution_count": 2,
   "metadata": {
    "ExecuteTime": {
     "end_time": "2021-01-09T18:47:33.136582Z",
     "start_time": "2021-01-09T18:47:25.314516Z"
    }
   },
   "outputs": [
    {
     "name": "stdout",
     "output_type": "stream",
     "text": [
      "[249001249500.0, 249001249500.0, 249001249500.0, 249001249500.0, 249001249500.0, 249001249500.0, 249001249500.0, 249001249500.0, 249001249500.0, 249001249500.0]\n"
     ]
    }
   ],
   "source": [
    "results = []\n",
    "for _ in data:\n",
    "    results.append(slow_function())\n",
    "    \n",
    "print(results[:10])"
   ]
  },
  {
   "cell_type": "markdown",
   "metadata": {
    "ExecuteTime": {
     "end_time": "2021-01-09T18:47:40.680409Z",
     "start_time": "2021-01-09T18:47:40.678692Z"
    }
   },
   "source": [
    "### Option 1: Multiprocessing\n",
    "- Advantage: native python library\n",
    "- Disadvantage: verbose"
   ]
  },
  {
   "cell_type": "code",
   "execution_count": 3,
   "metadata": {
    "ExecuteTime": {
     "end_time": "2021-01-09T18:48:04.837577Z",
     "start_time": "2021-01-09T18:48:02.815135Z"
    }
   },
   "outputs": [
    {
     "name": "stdout",
     "output_type": "stream",
     "text": [
      "[249001249500.0, 249001249500.0, 249001249500.0, 249001249500.0, 249001249500.0, 249001249500.0, 249001249500.0, 249001249500.0, 249001249500.0, 249001249500.0]\n"
     ]
    }
   ],
   "source": [
    "import multiprocessing as mp\n",
    "\n",
    "pool = mp.Pool(mp.cpu_count())\n",
    "results = [pool.apply_async(slow_function, args=()) for row in data]\n",
    "\n",
    "pool.close()    \n",
    "pool.join() \n",
    "results = [r.get() for r in results]\n",
    "\n",
    "print(results[:10])"
   ]
  },
  {
   "cell_type": "markdown",
   "metadata": {},
   "source": [
    "### Option 2: Ray  \n",
    "- Advantage: one of the least verbose library I'm aware of\n",
    "- Disadvantage: NOT native python library\n",
    "\n",
    "- More:\n",
    "    * Docs: https://docs.ray.io/en/latest/index.html\n",
    "    * Github: https://github.com/ray-project/ray (14.4k stars)\n",
    "    * Install it first: `pip install ray`.\n",
    "    * Bunch of useful tips: https://docs.ray.io/en/latest/auto_examples/tips-for-first-time.html"
   ]
  },
  {
   "cell_type": "code",
   "execution_count": 4,
   "metadata": {
    "ExecuteTime": {
     "end_time": "2021-01-09T18:49:41.957310Z",
     "start_time": "2021-01-09T18:49:39.376454Z"
    }
   },
   "outputs": [
    {
     "name": "stderr",
     "output_type": "stream",
     "text": [
      "2021-01-21 16:38:01,218\tINFO services.py:1090 -- View the Ray dashboard at \u001b[1m\u001b[32mhttp://127.0.0.1:8265\u001b[39m\u001b[22m\n"
     ]
    },
    {
     "name": "stdout",
     "output_type": "stream",
     "text": [
      "[249001249500.0, 249001249500.0, 249001249500.0, 249001249500.0, 249001249500.0, 249001249500.0, 249001249500.0, 249001249500.0, 249001249500.0, 249001249500.0]\n"
     ]
    }
   ],
   "source": [
    "import ray\n",
    "ray.init()\n",
    "\n",
    "@ray.remote\n",
    "def paralel_slow_function(x=1000):\n",
    "    return slow_function(x)\n",
    "\n",
    "futures = [paralel_slow_function.remote() for _ in data]\n",
    "print(ray.get(futures[:10])) \n",
    "\n",
    "#ray.shutdown()\n"
   ]
  },
  {
   "cell_type": "markdown",
   "metadata": {},
   "source": [
    "### Option 4: pandarallel\n",
    "\n",
    "- Advantage: Do not need anything else if you are doing your work on pandas\n",
    "- Disadvantage: only works with pandas\n",
    "\n",
    "- More:\n",
    "    * Docs: \n",
    "    * Github: https://github.com/nalepae/pandarallel (1.3K stars)\n",
    "    * Install it first: `pip install pandarallel`.\n",
    "    * Bunch of useful tips: https://github.com/nalepae/pandarallel/blob/master/docs/examples.ipynb"
   ]
  },
  {
   "cell_type": "code",
   "execution_count": 5,
   "metadata": {
    "ExecuteTime": {
     "end_time": "2021-01-09T20:17:10.398489Z",
     "start_time": "2021-01-09T20:17:10.394488Z"
    }
   },
   "outputs": [
    {
     "data": {
      "text/plain": [
       "0    0\n",
       "1    1\n",
       "2    2\n",
       "3    3\n",
       "4    4\n",
       "dtype: int64"
      ]
     },
     "execution_count": 5,
     "metadata": {},
     "output_type": "execute_result"
    }
   ],
   "source": [
    "import pandas as pd\n",
    "s = pd.Series(data)\n",
    "s.head()"
   ]
  },
  {
   "cell_type": "code",
   "execution_count": 6,
   "metadata": {
    "ExecuteTime": {
     "end_time": "2021-01-09T18:56:09.554223Z",
     "start_time": "2021-01-09T18:56:01.792792Z"
    }
   },
   "outputs": [
    {
     "data": {
      "text/plain": [
       "0     2.490012e+11\n",
       "1     2.490012e+11\n",
       "2     2.490012e+11\n",
       "3     2.490012e+11\n",
       "4     2.490012e+11\n",
       "          ...     \n",
       "95    2.490012e+11\n",
       "96    2.490012e+11\n",
       "97    2.490012e+11\n",
       "98    2.490012e+11\n",
       "99    2.490012e+11\n",
       "Length: 100, dtype: float64"
      ]
     },
     "execution_count": 6,
     "metadata": {},
     "output_type": "execute_result"
    }
   ],
   "source": [
    "# Usual way to apply a function with Pandas. Applying the `slow_function`.\n",
    "# Got the similar running time as shown above.\n",
    "s.apply(lambda x: slow_function())"
   ]
  },
  {
   "cell_type": "code",
   "execution_count": 7,
   "metadata": {
    "ExecuteTime": {
     "end_time": "2021-01-09T18:57:48.907251Z",
     "start_time": "2021-01-09T18:57:48.904634Z"
    }
   },
   "outputs": [
    {
     "name": "stdout",
     "output_type": "stream",
     "text": [
      "INFO: Pandarallel will run on 12 workers.\n",
      "INFO: Pandarallel will use Memory file system to transfer data between the main process and workers.\n"
     ]
    }
   ],
   "source": [
    "from pandarallel import pandarallel\n",
    "pandarallel.initialize(progress_bar=False) # You can specify number of cores, memory, progress_bar"
   ]
  },
  {
   "cell_type": "code",
   "execution_count": 8,
   "metadata": {
    "ExecuteTime": {
     "end_time": "2021-01-09T18:57:51.329641Z",
     "start_time": "2021-01-09T18:57:49.341649Z"
    }
   },
   "outputs": [
    {
     "data": {
      "text/plain": [
       "0     2.490012e+11\n",
       "1     2.490012e+11\n",
       "2     2.490012e+11\n",
       "3     2.490012e+11\n",
       "4     2.490012e+11\n",
       "          ...     \n",
       "95    2.490012e+11\n",
       "96    2.490012e+11\n",
       "97    2.490012e+11\n",
       "98    2.490012e+11\n",
       "99    2.490012e+11\n",
       "Length: 100, dtype: float64"
      ]
     },
     "execution_count": 8,
     "metadata": {},
     "output_type": "execute_result"
    }
   ],
   "source": [
    "s.parallel_apply(lambda x: slow_function())"
   ]
  },
  {
   "cell_type": "markdown",
   "metadata": {},
   "source": [
    "### Option 5: Dask\n",
    "\n",
    "- Advantage: It is fast and provides parallel implementations for numpy/pandas/sklean...\n",
    "- Disadvantage: implementation is similar to native numpy/pandas/sklean but not always the same\n",
    "- More:\n",
    "    * Docs: https://docs.dask.org/en/latest/\n",
    "    * Github: https://github.com/dask/dask (7.7K stars)\n",
    "    * Install it first: `pip install dask`.\n",
    "    * Bunch of useful tips: https://mybinder.org/v2/gh/dask/dask-examples/master?urlpath=lab\n"
   ]
  },
  {
   "cell_type": "code",
   "execution_count": 9,
   "metadata": {
    "ExecuteTime": {
     "end_time": "2021-01-09T20:28:09.342328Z",
     "start_time": "2021-01-09T20:28:08.551718Z"
    }
   },
   "outputs": [
    {
     "name": "stderr",
     "output_type": "stream",
     "text": [
      "/home/palotti/.conda/envs/cp38/lib/python3.8/site-packages/dask/dataframe/core.py:6194: UserWarning: Insufficient elements for `head`. 10 elements requested, only 9 elements available. Try passing larger `npartitions` to `head`.\n",
      "  warnings.warn(msg.format(n, len(r)))\n"
     ]
    },
    {
     "data": {
      "text/plain": [
       "0    2.490012e+11\n",
       "1    2.490012e+11\n",
       "2    2.490012e+11\n",
       "3    2.490012e+11\n",
       "4    2.490012e+11\n",
       "5    2.490012e+11\n",
       "6    2.490012e+11\n",
       "7    2.490012e+11\n",
       "8    2.490012e+11\n",
       "dtype: float64"
      ]
     },
     "execution_count": 9,
     "metadata": {},
     "output_type": "execute_result"
    }
   ],
   "source": [
    "import dask.dataframe as dd\n",
    "import pandas as pd\n",
    "s = pd.Series(data)\n",
    "ds = dd.from_pandas(s, 12)\n",
    "\n",
    "ds.apply(lambda x: slow_function(), meta=('float64')).head(10)"
   ]
  }
 ],
 "metadata": {
  "kernelspec": {
   "display_name": "Python 3",
   "language": "python",
   "name": "python3"
  },
  "language_info": {
   "codemirror_mode": {
    "name": "ipython",
    "version": 3
   },
   "file_extension": ".py",
   "mimetype": "text/x-python",
   "name": "python",
   "nbconvert_exporter": "python",
   "pygments_lexer": "ipython3",
   "version": "3.8.3"
  }
 },
 "nbformat": 4,
 "nbformat_minor": 4
}